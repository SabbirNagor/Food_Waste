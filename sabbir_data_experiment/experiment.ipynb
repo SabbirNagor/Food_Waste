{
 "cells": [
  {
   "cell_type": "markdown",
   "id": "03d319bd-5b33-48fc-ab3a-e87e6016dc71",
   "metadata": {},
   "source": [
    "import all the library I needed in this experiment\n"
   ]
  },
  {
   "cell_type": "code",
   "execution_count": 1,
   "id": "e234c003-0054-4252-bfe0-395d21768876",
   "metadata": {},
   "outputs": [],
   "source": [
    "import numpy as np\n",
    "import pandas as pd\n",
    "import os\n",
    "from sklearn.preprocessing import LabelEncoder\n",
    "import matplotlib.pyplot as plt\n"
   ]
  },
  {
   "cell_type": "markdown",
   "id": "9b4f2e23-1f44-467f-b0a1-8d978dc873dd",
   "metadata": {},
   "source": [
    "Read the dataset"
   ]
  },
  {
   "cell_type": "code",
   "execution_count": 2,
   "id": "73f5a5f3-d1e3-4a27-9b2f-7ffc9bf9af9e",
   "metadata": {},
   "outputs": [
    {
     "data": {
      "text/html": [
       "<div>\n",
       "<style scoped>\n",
       "    .dataframe tbody tr th:only-of-type {\n",
       "        vertical-align: middle;\n",
       "    }\n",
       "\n",
       "    .dataframe tbody tr th {\n",
       "        vertical-align: top;\n",
       "    }\n",
       "\n",
       "    .dataframe thead th {\n",
       "        text-align: right;\n",
       "    }\n",
       "</style>\n",
       "<table border=\"1\" class=\"dataframe\">\n",
       "  <thead>\n",
       "    <tr style=\"text-align: right;\">\n",
       "      <th></th>\n",
       "      <th>m49_code</th>\n",
       "      <th>country</th>\n",
       "      <th>region</th>\n",
       "      <th>cpc_code</th>\n",
       "      <th>commodity</th>\n",
       "      <th>year</th>\n",
       "      <th>loss_percentage</th>\n",
       "      <th>loss_percentage_original</th>\n",
       "      <th>loss_quantity</th>\n",
       "      <th>activity</th>\n",
       "      <th>food_supply_stage</th>\n",
       "      <th>treatment</th>\n",
       "      <th>cause_of_loss</th>\n",
       "      <th>sample_size</th>\n",
       "      <th>method_data_collection</th>\n",
       "      <th>reference</th>\n",
       "      <th>url</th>\n",
       "      <th>notes</th>\n",
       "    </tr>\n",
       "  </thead>\n",
       "  <tbody>\n",
       "    <tr>\n",
       "      <th>0</th>\n",
       "      <td>104</td>\n",
       "      <td>Myanmar</td>\n",
       "      <td>NaN</td>\n",
       "      <td>0142</td>\n",
       "      <td>Groundnuts, excluding shelled</td>\n",
       "      <td>2009</td>\n",
       "      <td>5.22</td>\n",
       "      <td>5.22%</td>\n",
       "      <td>68100</td>\n",
       "      <td>NaN</td>\n",
       "      <td>Whole supply chain</td>\n",
       "      <td>NaN</td>\n",
       "      <td>NaN</td>\n",
       "      <td>NaN</td>\n",
       "      <td>FAO's annual Agriculture Production Questionna...</td>\n",
       "      <td>FAO Sources</td>\n",
       "      <td>NaN</td>\n",
       "      <td>NaN</td>\n",
       "    </tr>\n",
       "    <tr>\n",
       "      <th>1</th>\n",
       "      <td>104</td>\n",
       "      <td>Myanmar</td>\n",
       "      <td>NaN</td>\n",
       "      <td>0142</td>\n",
       "      <td>Groundnuts, excluding shelled</td>\n",
       "      <td>2008</td>\n",
       "      <td>5.43</td>\n",
       "      <td>5.43%</td>\n",
       "      <td>65240</td>\n",
       "      <td>NaN</td>\n",
       "      <td>Whole supply chain</td>\n",
       "      <td>NaN</td>\n",
       "      <td>NaN</td>\n",
       "      <td>NaN</td>\n",
       "      <td>FAO's annual Agriculture Production Questionna...</td>\n",
       "      <td>FAO Sources</td>\n",
       "      <td>NaN</td>\n",
       "      <td>NaN</td>\n",
       "    </tr>\n",
       "    <tr>\n",
       "      <th>2</th>\n",
       "      <td>104</td>\n",
       "      <td>Myanmar</td>\n",
       "      <td>NaN</td>\n",
       "      <td>0142</td>\n",
       "      <td>Groundnuts, excluding shelled</td>\n",
       "      <td>2007</td>\n",
       "      <td>5.61</td>\n",
       "      <td>5.61%</td>\n",
       "      <td>61080</td>\n",
       "      <td>NaN</td>\n",
       "      <td>Whole supply chain</td>\n",
       "      <td>NaN</td>\n",
       "      <td>NaN</td>\n",
       "      <td>NaN</td>\n",
       "      <td>FAO's annual Agriculture Production Questionna...</td>\n",
       "      <td>FAO Sources</td>\n",
       "      <td>NaN</td>\n",
       "      <td>NaN</td>\n",
       "    </tr>\n",
       "    <tr>\n",
       "      <th>3</th>\n",
       "      <td>104</td>\n",
       "      <td>Myanmar</td>\n",
       "      <td>NaN</td>\n",
       "      <td>0142</td>\n",
       "      <td>Groundnuts, excluding shelled</td>\n",
       "      <td>2006</td>\n",
       "      <td>5.40</td>\n",
       "      <td>5.4%</td>\n",
       "      <td>55270</td>\n",
       "      <td>NaN</td>\n",
       "      <td>Whole supply chain</td>\n",
       "      <td>NaN</td>\n",
       "      <td>NaN</td>\n",
       "      <td>NaN</td>\n",
       "      <td>FAO's annual Agriculture Production Questionna...</td>\n",
       "      <td>FAO Sources</td>\n",
       "      <td>NaN</td>\n",
       "      <td>NaN</td>\n",
       "    </tr>\n",
       "    <tr>\n",
       "      <th>4</th>\n",
       "      <td>104</td>\n",
       "      <td>Myanmar</td>\n",
       "      <td>NaN</td>\n",
       "      <td>0142</td>\n",
       "      <td>Groundnuts, excluding shelled</td>\n",
       "      <td>2005</td>\n",
       "      <td>5.00</td>\n",
       "      <td>5%</td>\n",
       "      <td>51970</td>\n",
       "      <td>NaN</td>\n",
       "      <td>Whole supply chain</td>\n",
       "      <td>NaN</td>\n",
       "      <td>NaN</td>\n",
       "      <td>NaN</td>\n",
       "      <td>FAO's annual Agriculture Production Questionna...</td>\n",
       "      <td>FAO Sources</td>\n",
       "      <td>NaN</td>\n",
       "      <td>NaN</td>\n",
       "    </tr>\n",
       "  </tbody>\n",
       "</table>\n",
       "</div>"
      ],
      "text/plain": [
       "   m49_code  country region cpc_code                      commodity  year  \\\n",
       "0       104  Myanmar    NaN     0142  Groundnuts, excluding shelled  2009   \n",
       "1       104  Myanmar    NaN     0142  Groundnuts, excluding shelled  2008   \n",
       "2       104  Myanmar    NaN     0142  Groundnuts, excluding shelled  2007   \n",
       "3       104  Myanmar    NaN     0142  Groundnuts, excluding shelled  2006   \n",
       "4       104  Myanmar    NaN     0142  Groundnuts, excluding shelled  2005   \n",
       "\n",
       "   loss_percentage loss_percentage_original loss_quantity activity  \\\n",
       "0             5.22                    5.22%         68100      NaN   \n",
       "1             5.43                    5.43%         65240      NaN   \n",
       "2             5.61                    5.61%         61080      NaN   \n",
       "3             5.40                     5.4%         55270      NaN   \n",
       "4             5.00                       5%         51970      NaN   \n",
       "\n",
       "    food_supply_stage treatment cause_of_loss sample_size  \\\n",
       "0  Whole supply chain       NaN           NaN         NaN   \n",
       "1  Whole supply chain       NaN           NaN         NaN   \n",
       "2  Whole supply chain       NaN           NaN         NaN   \n",
       "3  Whole supply chain       NaN           NaN         NaN   \n",
       "4  Whole supply chain       NaN           NaN         NaN   \n",
       "\n",
       "                              method_data_collection    reference  url notes  \n",
       "0  FAO's annual Agriculture Production Questionna...  FAO Sources  NaN   NaN  \n",
       "1  FAO's annual Agriculture Production Questionna...  FAO Sources  NaN   NaN  \n",
       "2  FAO's annual Agriculture Production Questionna...  FAO Sources  NaN   NaN  \n",
       "3  FAO's annual Agriculture Production Questionna...  FAO Sources  NaN   NaN  \n",
       "4  FAO's annual Agriculture Production Questionna...  FAO Sources  NaN   NaN  "
      ]
     },
     "execution_count": 2,
     "metadata": {},
     "output_type": "execute_result"
    }
   ],
   "source": [
    "df = pd.read_csv('Data-3.csv')\n",
    "df.head()"
   ]
  },
  {
   "cell_type": "markdown",
   "id": "0e2d1e95-cd63-440d-90a6-03800ba8a961",
   "metadata": {},
   "source": [
    "Drop some of the column that i think we do not need to use in this experiment."
   ]
  },
  {
   "cell_type": "markdown",
   "id": "3bf007cb-f8b9-4f66-80b9-8a36cfd23c2b",
   "metadata": {
    "tags": []
   },
   "source": [
    "### Checking number of records in each area type "
   ]
  },
  {
   "cell_type": "code",
   "execution_count": 6,
   "id": "3ad07999-11b7-4ce2-9866-f0c7f7419c29",
   "metadata": {},
   "outputs": [
    {
     "data": {
      "text/plain": [
       "country\n",
       "Afghanistan        29\n",
       "Africa              1\n",
       "Algeria             1\n",
       "Angola            693\n",
       "Argentina           3\n",
       "                 ... \n",
       "Viet Nam           15\n",
       "Western Africa      4\n",
       "Western Asia        5\n",
       "Zambia            728\n",
       "Zimbabwe          472\n",
       "Name: country, Length: 149, dtype: int64"
      ]
     },
     "execution_count": 6,
     "metadata": {},
     "output_type": "execute_result"
    }
   ],
   "source": [
    "df.groupby('country')['country'].agg('count')"
   ]
  },
  {
   "cell_type": "code",
   "execution_count": 7,
   "id": "b5ebb9f0-d530-4105-b265-b40c4b369e88",
   "metadata": {},
   "outputs": [
    {
     "data": {
      "text/plain": [
       "commodity\n",
       "Almonds, in shell                                                              15\n",
       "Anise, badian, coriander, cumin, caraway, fennel and juniper berries, raw      28\n",
       "Apple juice                                                                    19\n",
       "Apples                                                                        152\n",
       "Apricots                                                                       58\n",
       "                                                                             ... \n",
       "Wheat                                                                        2052\n",
       "Wheat and meslin flour                                                         50\n",
       "Wine                                                                            1\n",
       "Yams                                                                           46\n",
       "Yautia                                                                         25\n",
       "Name: commodity, Length: 195, dtype: int64"
      ]
     },
     "execution_count": 7,
     "metadata": {},
     "output_type": "execute_result"
    }
   ],
   "source": [
    "df.groupby('commodity')['commodity'].agg('count')"
   ]
  },
  {
   "cell_type": "code",
   "execution_count": 8,
   "id": "4b8a9a72-e854-44b3-a20b-46c677486e7f",
   "metadata": {},
   "outputs": [
    {
     "data": {
      "text/plain": [
       "year\n",
       "2000    1236\n",
       "2001    1408\n",
       "2002    1326\n",
       "2003    1271\n",
       "2004    1205\n",
       "2005    1250\n",
       "2006    1647\n",
       "2007    1187\n",
       "2008    1380\n",
       "2009    1607\n",
       "2010    1496\n",
       "2011    1310\n",
       "2012    1170\n",
       "2013    1433\n",
       "2014    1843\n",
       "2015    1284\n",
       "2016    1514\n",
       "2017    1221\n",
       "2018    1184\n",
       "2019     913\n",
       "2020     862\n",
       "2021      26\n",
       "Name: year, dtype: int64"
      ]
     },
     "execution_count": 8,
     "metadata": {},
     "output_type": "execute_result"
    }
   ],
   "source": [
    "df.groupby('year')['year'].agg('count')"
   ]
  },
  {
   "cell_type": "markdown",
   "id": "8ee8115e-cb57-4590-a5b3-19b28775d951",
   "metadata": {},
   "source": [
    "Droping some colums which will not use for this model."
   ]
  },
  {
   "cell_type": "code",
   "execution_count": 4,
   "id": "42b87012-32fe-42c4-8e5f-ed304eab8d9c",
   "metadata": {},
   "outputs": [
    {
     "data": {
      "text/html": [
       "<div>\n",
       "<style scoped>\n",
       "    .dataframe tbody tr th:only-of-type {\n",
       "        vertical-align: middle;\n",
       "    }\n",
       "\n",
       "    .dataframe tbody tr th {\n",
       "        vertical-align: top;\n",
       "    }\n",
       "\n",
       "    .dataframe thead th {\n",
       "        text-align: right;\n",
       "    }\n",
       "</style>\n",
       "<table border=\"1\" class=\"dataframe\">\n",
       "  <thead>\n",
       "    <tr style=\"text-align: right;\">\n",
       "      <th></th>\n",
       "      <th>m49_code</th>\n",
       "      <th>country</th>\n",
       "      <th>region</th>\n",
       "      <th>cpc_code</th>\n",
       "      <th>commodity</th>\n",
       "      <th>year</th>\n",
       "      <th>loss_percentage</th>\n",
       "      <th>loss_quantity</th>\n",
       "      <th>food_supply_stage</th>\n",
       "      <th>method_data_collection</th>\n",
       "      <th>reference</th>\n",
       "    </tr>\n",
       "  </thead>\n",
       "  <tbody>\n",
       "    <tr>\n",
       "      <th>0</th>\n",
       "      <td>104</td>\n",
       "      <td>Myanmar</td>\n",
       "      <td>NaN</td>\n",
       "      <td>0142</td>\n",
       "      <td>Groundnuts, excluding shelled</td>\n",
       "      <td>2009</td>\n",
       "      <td>5.22</td>\n",
       "      <td>68100</td>\n",
       "      <td>Whole supply chain</td>\n",
       "      <td>FAO's annual Agriculture Production Questionna...</td>\n",
       "      <td>FAO Sources</td>\n",
       "    </tr>\n",
       "    <tr>\n",
       "      <th>1</th>\n",
       "      <td>104</td>\n",
       "      <td>Myanmar</td>\n",
       "      <td>NaN</td>\n",
       "      <td>0142</td>\n",
       "      <td>Groundnuts, excluding shelled</td>\n",
       "      <td>2008</td>\n",
       "      <td>5.43</td>\n",
       "      <td>65240</td>\n",
       "      <td>Whole supply chain</td>\n",
       "      <td>FAO's annual Agriculture Production Questionna...</td>\n",
       "      <td>FAO Sources</td>\n",
       "    </tr>\n",
       "    <tr>\n",
       "      <th>2</th>\n",
       "      <td>104</td>\n",
       "      <td>Myanmar</td>\n",
       "      <td>NaN</td>\n",
       "      <td>0142</td>\n",
       "      <td>Groundnuts, excluding shelled</td>\n",
       "      <td>2007</td>\n",
       "      <td>5.61</td>\n",
       "      <td>61080</td>\n",
       "      <td>Whole supply chain</td>\n",
       "      <td>FAO's annual Agriculture Production Questionna...</td>\n",
       "      <td>FAO Sources</td>\n",
       "    </tr>\n",
       "    <tr>\n",
       "      <th>3</th>\n",
       "      <td>104</td>\n",
       "      <td>Myanmar</td>\n",
       "      <td>NaN</td>\n",
       "      <td>0142</td>\n",
       "      <td>Groundnuts, excluding shelled</td>\n",
       "      <td>2006</td>\n",
       "      <td>5.40</td>\n",
       "      <td>55270</td>\n",
       "      <td>Whole supply chain</td>\n",
       "      <td>FAO's annual Agriculture Production Questionna...</td>\n",
       "      <td>FAO Sources</td>\n",
       "    </tr>\n",
       "    <tr>\n",
       "      <th>4</th>\n",
       "      <td>104</td>\n",
       "      <td>Myanmar</td>\n",
       "      <td>NaN</td>\n",
       "      <td>0142</td>\n",
       "      <td>Groundnuts, excluding shelled</td>\n",
       "      <td>2005</td>\n",
       "      <td>5.00</td>\n",
       "      <td>51970</td>\n",
       "      <td>Whole supply chain</td>\n",
       "      <td>FAO's annual Agriculture Production Questionna...</td>\n",
       "      <td>FAO Sources</td>\n",
       "    </tr>\n",
       "  </tbody>\n",
       "</table>\n",
       "</div>"
      ],
      "text/plain": [
       "   m49_code  country region cpc_code                      commodity  year  \\\n",
       "0       104  Myanmar    NaN     0142  Groundnuts, excluding shelled  2009   \n",
       "1       104  Myanmar    NaN     0142  Groundnuts, excluding shelled  2008   \n",
       "2       104  Myanmar    NaN     0142  Groundnuts, excluding shelled  2007   \n",
       "3       104  Myanmar    NaN     0142  Groundnuts, excluding shelled  2006   \n",
       "4       104  Myanmar    NaN     0142  Groundnuts, excluding shelled  2005   \n",
       "\n",
       "   loss_percentage loss_quantity   food_supply_stage  \\\n",
       "0             5.22         68100  Whole supply chain   \n",
       "1             5.43         65240  Whole supply chain   \n",
       "2             5.61         61080  Whole supply chain   \n",
       "3             5.40         55270  Whole supply chain   \n",
       "4             5.00         51970  Whole supply chain   \n",
       "\n",
       "                              method_data_collection    reference  \n",
       "0  FAO's annual Agriculture Production Questionna...  FAO Sources  \n",
       "1  FAO's annual Agriculture Production Questionna...  FAO Sources  \n",
       "2  FAO's annual Agriculture Production Questionna...  FAO Sources  \n",
       "3  FAO's annual Agriculture Production Questionna...  FAO Sources  \n",
       "4  FAO's annual Agriculture Production Questionna...  FAO Sources  "
      ]
     },
     "execution_count": 4,
     "metadata": {},
     "output_type": "execute_result"
    }
   ],
   "source": [
    "d2 = df.drop(['loss_percentage_original','activity','treatment','cause_of_loss','sample_size','url','notes'],axis='columns')\n",
    "d2.head()"
   ]
  },
  {
   "cell_type": "code",
   "execution_count": 4,
   "id": "4af47a2b-6a26-404c-b98e-fd75352f689f",
   "metadata": {},
   "outputs": [
    {
     "name": "stdout",
     "output_type": "stream",
     "text": [
      "<class 'pandas.core.frame.DataFrame'>\n",
      "RangeIndex: 27773 entries, 0 to 27772\n",
      "Data columns (total 11 columns):\n",
      " #   Column                  Non-Null Count  Dtype  \n",
      "---  ------                  --------------  -----  \n",
      " 0   m49_code                27773 non-null  int64  \n",
      " 1   country                 27773 non-null  object \n",
      " 2   region                  871 non-null    object \n",
      " 3   cpc_code                27773 non-null  object \n",
      " 4   commodity               27773 non-null  object \n",
      " 5   year                    27773 non-null  int64  \n",
      " 6   loss_percentage         27773 non-null  float64\n",
      " 7   loss_quantity           4552 non-null   object \n",
      " 8   food_supply_stage       27724 non-null  object \n",
      " 9   method_data_collection  27418 non-null  object \n",
      " 10  reference               8436 non-null   object \n",
      "dtypes: float64(1), int64(2), object(8)\n",
      "memory usage: 2.3+ MB\n"
     ]
    }
   ],
   "source": [
    "df = d2\n",
    "df.info()"
   ]
  },
  {
   "cell_type": "code",
   "execution_count": 5,
   "id": "d71c4996-a5ac-433b-9d88-e2cbfe2da559",
   "metadata": {},
   "outputs": [
    {
     "data": {
      "text/plain": [
       "m49_code                      0\n",
       "country                       0\n",
       "region                    26902\n",
       "cpc_code                      0\n",
       "commodity                     0\n",
       "year                          0\n",
       "loss_percentage               0\n",
       "loss_quantity             23221\n",
       "food_supply_stage            49\n",
       "method_data_collection      355\n",
       "reference                 19337\n",
       "dtype: int64"
      ]
     },
     "execution_count": 5,
     "metadata": {},
     "output_type": "execute_result"
    }
   ],
   "source": [
    "df.isna().sum()"
   ]
  },
  {
   "cell_type": "code",
   "execution_count": 6,
   "id": "a11aadd8-69c5-4b1f-bb77-2548e60890b0",
   "metadata": {},
   "outputs": [
    {
     "data": {
      "text/plain": [
       "m49_code                  0\n",
       "country                   0\n",
       "region                    0\n",
       "cpc_code                  0\n",
       "commodity                 0\n",
       "year                      0\n",
       "loss_percentage           0\n",
       "loss_quantity             0\n",
       "food_supply_stage         0\n",
       "method_data_collection    0\n",
       "reference                 0\n",
       "dtype: int64"
      ]
     },
     "execution_count": 6,
     "metadata": {},
     "output_type": "execute_result"
    }
   ],
   "source": [
    "df=df.dropna()\n",
    "df.isnull().sum()"
   ]
  },
  {
   "cell_type": "code",
   "execution_count": 7,
   "id": "69c13e0f-94e9-4849-9909-af691b116806",
   "metadata": {},
   "outputs": [
    {
     "data": {
      "text/html": [
       "<div>\n",
       "<style scoped>\n",
       "    .dataframe tbody tr th:only-of-type {\n",
       "        vertical-align: middle;\n",
       "    }\n",
       "\n",
       "    .dataframe tbody tr th {\n",
       "        vertical-align: top;\n",
       "    }\n",
       "\n",
       "    .dataframe thead th {\n",
       "        text-align: right;\n",
       "    }\n",
       "</style>\n",
       "<table border=\"1\" class=\"dataframe\">\n",
       "  <thead>\n",
       "    <tr style=\"text-align: right;\">\n",
       "      <th></th>\n",
       "      <th>m49_code</th>\n",
       "      <th>country</th>\n",
       "      <th>region</th>\n",
       "      <th>cpc_code</th>\n",
       "      <th>commodity</th>\n",
       "      <th>year</th>\n",
       "      <th>loss_percentage</th>\n",
       "      <th>loss_quantity</th>\n",
       "      <th>food_supply_stage</th>\n",
       "      <th>method_data_collection</th>\n",
       "      <th>reference</th>\n",
       "    </tr>\n",
       "  </thead>\n",
       "  <tbody>\n",
       "    <tr>\n",
       "      <th>13978</th>\n",
       "      <td>50</td>\n",
       "      <td>Bangladesh</td>\n",
       "      <td>Rangpur</td>\n",
       "      <td>0111</td>\n",
       "      <td>Wheat</td>\n",
       "      <td>2010</td>\n",
       "      <td>21.70</td>\n",
       "      <td>0.51kg/quintal</td>\n",
       "      <td>Farm</td>\n",
       "      <td>Survey</td>\n",
       "      <td>Esmat Ara Begum et al. / IJAR-BAE (July 2012) ...</td>\n",
       "    </tr>\n",
       "    <tr>\n",
       "      <th>13979</th>\n",
       "      <td>50</td>\n",
       "      <td>Bangladesh</td>\n",
       "      <td>Rangpur</td>\n",
       "      <td>0111</td>\n",
       "      <td>Wheat</td>\n",
       "      <td>2010</td>\n",
       "      <td>13.62</td>\n",
       "      <td>0.32kg/quintal</td>\n",
       "      <td>Farm</td>\n",
       "      <td>Survey</td>\n",
       "      <td>Esmat Ara Begum et al. / IJAR-BAE (July 2012) ...</td>\n",
       "    </tr>\n",
       "    <tr>\n",
       "      <th>13982</th>\n",
       "      <td>50</td>\n",
       "      <td>Bangladesh</td>\n",
       "      <td>Rangpur</td>\n",
       "      <td>0111</td>\n",
       "      <td>Wheat</td>\n",
       "      <td>2010</td>\n",
       "      <td>13.62</td>\n",
       "      <td>0.32kg/quintal</td>\n",
       "      <td>Farm</td>\n",
       "      <td>Survey</td>\n",
       "      <td>Esmat Ara Begum et al. / IJAR-BAE (July 2012) ...</td>\n",
       "    </tr>\n",
       "    <tr>\n",
       "      <th>13983</th>\n",
       "      <td>50</td>\n",
       "      <td>Bangladesh</td>\n",
       "      <td>Rangpur</td>\n",
       "      <td>0111</td>\n",
       "      <td>Wheat</td>\n",
       "      <td>2010</td>\n",
       "      <td>40.85</td>\n",
       "      <td>0.96kg/quintal</td>\n",
       "      <td>Harvest</td>\n",
       "      <td>Survey</td>\n",
       "      <td>Esmat Ara Begum et al. / IJAR-BAE (July 2012) ...</td>\n",
       "    </tr>\n",
       "    <tr>\n",
       "      <th>13984</th>\n",
       "      <td>50</td>\n",
       "      <td>Bangladesh</td>\n",
       "      <td>Rangpur</td>\n",
       "      <td>0111</td>\n",
       "      <td>Wheat</td>\n",
       "      <td>2010</td>\n",
       "      <td>5.53</td>\n",
       "      <td>0.13kg/quintal</td>\n",
       "      <td>Transport</td>\n",
       "      <td>Survey</td>\n",
       "      <td>Esmat Ara Begum et al. / IJAR-BAE (July 2012) ...</td>\n",
       "    </tr>\n",
       "  </tbody>\n",
       "</table>\n",
       "</div>"
      ],
      "text/plain": [
       "       m49_code     country   region cpc_code commodity  year  \\\n",
       "13978        50  Bangladesh  Rangpur     0111     Wheat  2010   \n",
       "13979        50  Bangladesh  Rangpur     0111     Wheat  2010   \n",
       "13982        50  Bangladesh  Rangpur     0111     Wheat  2010   \n",
       "13983        50  Bangladesh  Rangpur     0111     Wheat  2010   \n",
       "13984        50  Bangladesh  Rangpur     0111     Wheat  2010   \n",
       "\n",
       "       loss_percentage   loss_quantity food_supply_stage  \\\n",
       "13978            21.70  0.51kg/quintal              Farm   \n",
       "13979            13.62  0.32kg/quintal              Farm   \n",
       "13982            13.62  0.32kg/quintal              Farm   \n",
       "13983            40.85  0.96kg/quintal           Harvest   \n",
       "13984             5.53  0.13kg/quintal         Transport   \n",
       "\n",
       "      method_data_collection  \\\n",
       "13978                 Survey   \n",
       "13979                 Survey   \n",
       "13982                 Survey   \n",
       "13983                 Survey   \n",
       "13984                 Survey   \n",
       "\n",
       "                                               reference  \n",
       "13978  Esmat Ara Begum et al. / IJAR-BAE (July 2012) ...  \n",
       "13979  Esmat Ara Begum et al. / IJAR-BAE (July 2012) ...  \n",
       "13982  Esmat Ara Begum et al. / IJAR-BAE (July 2012) ...  \n",
       "13983  Esmat Ara Begum et al. / IJAR-BAE (July 2012) ...  \n",
       "13984  Esmat Ara Begum et al. / IJAR-BAE (July 2012) ...  "
      ]
     },
     "execution_count": 7,
     "metadata": {},
     "output_type": "execute_result"
    }
   ],
   "source": [
    "df.head()"
   ]
  },
  {
   "cell_type": "code",
   "execution_count": 8,
   "id": "af909f6d-2887-4dd8-ad96-fb88f139f38a",
   "metadata": {},
   "outputs": [],
   "source": [
    "X = df.drop(['loss_percentage'],axis='columns')\n"
   ]
  },
  {
   "cell_type": "code",
   "execution_count": 9,
   "id": "82033044-0175-4ddc-b333-ac31c4dcb09c",
   "metadata": {},
   "outputs": [
    {
     "data": {
      "text/html": [
       "<div>\n",
       "<style scoped>\n",
       "    .dataframe tbody tr th:only-of-type {\n",
       "        vertical-align: middle;\n",
       "    }\n",
       "\n",
       "    .dataframe tbody tr th {\n",
       "        vertical-align: top;\n",
       "    }\n",
       "\n",
       "    .dataframe thead th {\n",
       "        text-align: right;\n",
       "    }\n",
       "</style>\n",
       "<table border=\"1\" class=\"dataframe\">\n",
       "  <thead>\n",
       "    <tr style=\"text-align: right;\">\n",
       "      <th></th>\n",
       "      <th>m49_code</th>\n",
       "      <th>country</th>\n",
       "      <th>region</th>\n",
       "      <th>cpc_code</th>\n",
       "      <th>commodity</th>\n",
       "      <th>year</th>\n",
       "      <th>loss_quantity</th>\n",
       "      <th>food_supply_stage</th>\n",
       "      <th>method_data_collection</th>\n",
       "      <th>reference</th>\n",
       "    </tr>\n",
       "  </thead>\n",
       "  <tbody>\n",
       "    <tr>\n",
       "      <th>13978</th>\n",
       "      <td>50</td>\n",
       "      <td>Bangladesh</td>\n",
       "      <td>Rangpur</td>\n",
       "      <td>0111</td>\n",
       "      <td>Wheat</td>\n",
       "      <td>2010</td>\n",
       "      <td>0.51kg/quintal</td>\n",
       "      <td>Farm</td>\n",
       "      <td>Survey</td>\n",
       "      <td>Esmat Ara Begum et al. / IJAR-BAE (July 2012) ...</td>\n",
       "    </tr>\n",
       "    <tr>\n",
       "      <th>13979</th>\n",
       "      <td>50</td>\n",
       "      <td>Bangladesh</td>\n",
       "      <td>Rangpur</td>\n",
       "      <td>0111</td>\n",
       "      <td>Wheat</td>\n",
       "      <td>2010</td>\n",
       "      <td>0.32kg/quintal</td>\n",
       "      <td>Farm</td>\n",
       "      <td>Survey</td>\n",
       "      <td>Esmat Ara Begum et al. / IJAR-BAE (July 2012) ...</td>\n",
       "    </tr>\n",
       "    <tr>\n",
       "      <th>13982</th>\n",
       "      <td>50</td>\n",
       "      <td>Bangladesh</td>\n",
       "      <td>Rangpur</td>\n",
       "      <td>0111</td>\n",
       "      <td>Wheat</td>\n",
       "      <td>2010</td>\n",
       "      <td>0.32kg/quintal</td>\n",
       "      <td>Farm</td>\n",
       "      <td>Survey</td>\n",
       "      <td>Esmat Ara Begum et al. / IJAR-BAE (July 2012) ...</td>\n",
       "    </tr>\n",
       "    <tr>\n",
       "      <th>13983</th>\n",
       "      <td>50</td>\n",
       "      <td>Bangladesh</td>\n",
       "      <td>Rangpur</td>\n",
       "      <td>0111</td>\n",
       "      <td>Wheat</td>\n",
       "      <td>2010</td>\n",
       "      <td>0.96kg/quintal</td>\n",
       "      <td>Harvest</td>\n",
       "      <td>Survey</td>\n",
       "      <td>Esmat Ara Begum et al. / IJAR-BAE (July 2012) ...</td>\n",
       "    </tr>\n",
       "    <tr>\n",
       "      <th>13984</th>\n",
       "      <td>50</td>\n",
       "      <td>Bangladesh</td>\n",
       "      <td>Rangpur</td>\n",
       "      <td>0111</td>\n",
       "      <td>Wheat</td>\n",
       "      <td>2010</td>\n",
       "      <td>0.13kg/quintal</td>\n",
       "      <td>Transport</td>\n",
       "      <td>Survey</td>\n",
       "      <td>Esmat Ara Begum et al. / IJAR-BAE (July 2012) ...</td>\n",
       "    </tr>\n",
       "  </tbody>\n",
       "</table>\n",
       "</div>"
      ],
      "text/plain": [
       "       m49_code     country   region cpc_code commodity  year   loss_quantity  \\\n",
       "13978        50  Bangladesh  Rangpur     0111     Wheat  2010  0.51kg/quintal   \n",
       "13979        50  Bangladesh  Rangpur     0111     Wheat  2010  0.32kg/quintal   \n",
       "13982        50  Bangladesh  Rangpur     0111     Wheat  2010  0.32kg/quintal   \n",
       "13983        50  Bangladesh  Rangpur     0111     Wheat  2010  0.96kg/quintal   \n",
       "13984        50  Bangladesh  Rangpur     0111     Wheat  2010  0.13kg/quintal   \n",
       "\n",
       "      food_supply_stage method_data_collection  \\\n",
       "13978              Farm                 Survey   \n",
       "13979              Farm                 Survey   \n",
       "13982              Farm                 Survey   \n",
       "13983           Harvest                 Survey   \n",
       "13984         Transport                 Survey   \n",
       "\n",
       "                                               reference  \n",
       "13978  Esmat Ara Begum et al. / IJAR-BAE (July 2012) ...  \n",
       "13979  Esmat Ara Begum et al. / IJAR-BAE (July 2012) ...  \n",
       "13982  Esmat Ara Begum et al. / IJAR-BAE (July 2012) ...  \n",
       "13983  Esmat Ara Begum et al. / IJAR-BAE (July 2012) ...  \n",
       "13984  Esmat Ara Begum et al. / IJAR-BAE (July 2012) ...  "
      ]
     },
     "execution_count": 9,
     "metadata": {},
     "output_type": "execute_result"
    }
   ],
   "source": [
    "X.head()"
   ]
  },
  {
   "cell_type": "code",
   "execution_count": 10,
   "id": "35cdc5a0-ba32-43c1-b252-d8e40f4c74f7",
   "metadata": {},
   "outputs": [],
   "source": [
    "y = df.loss_percentage\n"
   ]
  },
  {
   "cell_type": "code",
   "execution_count": 11,
   "id": "08a1c95a-590e-4933-9b93-b7058bca314b",
   "metadata": {},
   "outputs": [
    {
     "data": {
      "text/plain": [
       "13978    21.70\n",
       "13979    13.62\n",
       "13982    13.62\n",
       "13983    40.85\n",
       "13984     5.53\n",
       "Name: loss_percentage, dtype: float64"
      ]
     },
     "execution_count": 11,
     "metadata": {},
     "output_type": "execute_result"
    }
   ],
   "source": [
    "y.head()"
   ]
  },
  {
   "cell_type": "code",
   "execution_count": 14,
   "id": "9b599a8b-8ea9-4d67-99cd-65320322f209",
   "metadata": {},
   "outputs": [
    {
     "name": "stdout",
     "output_type": "stream",
     "text": [
      "m49_code                    int64\n",
      "country                    object\n",
      "region                     object\n",
      "cpc_code                   object\n",
      "commodity                  object\n",
      "year                        int64\n",
      "loss_percentage           float64\n",
      "loss_quantity              object\n",
      "food_supply_stage          object\n",
      "method_data_collection     object\n",
      "reference                  object\n",
      "dtype: object\n"
     ]
    }
   ],
   "source": [
    "print(df.dtypes)"
   ]
  },
  {
   "cell_type": "code",
   "execution_count": 12,
   "id": "6f088015-3161-4388-95f0-007e8c20422d",
   "metadata": {},
   "outputs": [],
   "source": [
    "# Encode labels of independent variable columns\n",
    "cols = ['m49_code','country', 'region', 'cpc_code', 'commodity','year', 'loss_quantity', 'food_supply_stage', 'method_data_collection', 'reference']\n",
    "X[cols] = X[cols].apply(LabelEncoder().fit_transform)\n",
    "\n",
    "\n"
   ]
  },
  {
   "cell_type": "code",
   "execution_count": null,
   "id": "d7bd2d43-835e-478a-8206-608ecdccd9a1",
   "metadata": {},
   "outputs": [],
   "source": []
  },
  {
   "cell_type": "code",
   "execution_count": 16,
   "id": "53ea951c-3e46-4c2d-9774-5ada3df512bb",
   "metadata": {},
   "outputs": [
    {
     "data": {
      "text/plain": [
       "0.659729040465403"
      ]
     },
     "execution_count": 16,
     "metadata": {},
     "output_type": "execute_result"
    }
   ],
   "source": [
    "model.score(X_test, y_test)"
   ]
  },
  {
   "cell_type": "code",
   "execution_count": 17,
   "id": "953992a0-5a10-4d7d-8489-90e75b341fa3",
   "metadata": {},
   "outputs": [],
   "source": [
    "y_pred = model.predict(X_test)"
   ]
  },
  {
   "cell_type": "code",
   "execution_count": 19,
   "id": "8893f533-5dd3-4cf5-9947-b215581f2390",
   "metadata": {},
   "outputs": [],
   "source": [
    "import sklearn.metrics as metrics"
   ]
  },
  {
   "cell_type": "code",
   "execution_count": 20,
   "id": "1227ee4c-7e4f-44a9-b836-ddf9812718b9",
   "metadata": {},
   "outputs": [],
   "source": [
    "mean_absolute_error=metrics.mean_absolute_error(y_test,y_pred)"
   ]
  },
  {
   "cell_type": "code",
   "execution_count": 21,
   "id": "701a5075-007d-42c4-8fef-a3989b16c53e",
   "metadata": {},
   "outputs": [
    {
     "name": "stdout",
     "output_type": "stream",
     "text": [
      "Mae (Mean absolute error): 2.555060000000001\n"
     ]
    }
   ],
   "source": [
    "print('Mae (Mean absolute error): %s' %mean_absolute_error)"
   ]
  },
  {
   "cell_type": "code",
   "execution_count": 19,
   "id": "2c56e15c-356e-49bd-9416-e4d49e8bcd73",
   "metadata": {},
   "outputs": [
    {
     "ename": "ValueError",
     "evalue": "If using all scalar values, you must pass an index",
     "output_type": "error",
     "traceback": [
      "\u001b[0;31m---------------------------------------------------------------------------\u001b[0m",
      "\u001b[0;31mValueError\u001b[0m                                Traceback (most recent call last)",
      "Input \u001b[0;32mIn [19]\u001b[0m, in \u001b[0;36m<cell line: 29>\u001b[0;34m()\u001b[0m\n\u001b[1;32m     26\u001b[0m rf\u001b[38;5;241m.\u001b[39mfit(X, y)\n\u001b[1;32m     28\u001b[0m \u001b[38;5;66;03m# Make predictions on new data\u001b[39;00m\n\u001b[0;32m---> 29\u001b[0m X_new \u001b[38;5;241m=\u001b[39m \u001b[43mpd\u001b[49m\u001b[38;5;241;43m.\u001b[39;49m\u001b[43mDataFrame\u001b[49m\u001b[43m(\u001b[49m\u001b[43m{\u001b[49m\n\u001b[1;32m     30\u001b[0m \u001b[43m    \u001b[49m\u001b[38;5;124;43m'\u001b[39;49m\u001b[38;5;124;43mm49_code\u001b[39;49m\u001b[38;5;124;43m'\u001b[39;49m\u001b[43m:\u001b[49m\u001b[43m \u001b[49m\u001b[43mlabel_encoders\u001b[49m\u001b[43m[\u001b[49m\u001b[38;5;124;43m'\u001b[39;49m\u001b[38;5;124;43mm49_code\u001b[39;49m\u001b[38;5;124;43m'\u001b[39;49m\u001b[43m]\u001b[49m\u001b[43m,\u001b[49m\n\u001b[1;32m     31\u001b[0m \u001b[43m    \u001b[49m\u001b[38;5;124;43m'\u001b[39;49m\u001b[38;5;124;43mcountry\u001b[39;49m\u001b[38;5;124;43m'\u001b[39;49m\u001b[43m:\u001b[49m\u001b[43m \u001b[49m\u001b[43mlabel_encoders\u001b[49m\u001b[43m[\u001b[49m\u001b[38;5;124;43m'\u001b[39;49m\u001b[38;5;124;43mcountry\u001b[39;49m\u001b[38;5;124;43m'\u001b[39;49m\u001b[43m]\u001b[49m\u001b[43m,\u001b[49m\n\u001b[1;32m     32\u001b[0m \u001b[43m    \u001b[49m\u001b[38;5;124;43m'\u001b[39;49m\u001b[38;5;124;43mregion\u001b[39;49m\u001b[38;5;124;43m'\u001b[39;49m\u001b[43m:\u001b[49m\u001b[43m \u001b[49m\u001b[43mlabel_encoders\u001b[49m\u001b[43m[\u001b[49m\u001b[38;5;124;43m'\u001b[39;49m\u001b[38;5;124;43mregion\u001b[39;49m\u001b[38;5;124;43m'\u001b[39;49m\u001b[43m]\u001b[49m\u001b[43m,\u001b[49m\n\u001b[1;32m     33\u001b[0m \u001b[43m    \u001b[49m\u001b[38;5;124;43m'\u001b[39;49m\u001b[38;5;124;43mcpc_code\u001b[39;49m\u001b[38;5;124;43m'\u001b[39;49m\u001b[43m:\u001b[49m\u001b[43m \u001b[49m\u001b[43mlabel_encoders\u001b[49m\u001b[43m[\u001b[49m\u001b[38;5;124;43m'\u001b[39;49m\u001b[38;5;124;43mcpc_code\u001b[39;49m\u001b[38;5;124;43m'\u001b[39;49m\u001b[43m]\u001b[49m\u001b[43m,\u001b[49m\n\u001b[1;32m     34\u001b[0m \u001b[43m    \u001b[49m\u001b[38;5;124;43m'\u001b[39;49m\u001b[38;5;124;43mcommodity\u001b[39;49m\u001b[38;5;124;43m'\u001b[39;49m\u001b[43m:\u001b[49m\u001b[43m \u001b[49m\u001b[43mlabel_encoders\u001b[49m\u001b[43m[\u001b[49m\u001b[38;5;124;43m'\u001b[39;49m\u001b[38;5;124;43mcommodity\u001b[39;49m\u001b[38;5;124;43m'\u001b[39;49m\u001b[43m]\u001b[49m\u001b[43m,\u001b[49m\n\u001b[1;32m     35\u001b[0m \u001b[43m    \u001b[49m\u001b[38;5;124;43m'\u001b[39;49m\u001b[38;5;124;43myear\u001b[39;49m\u001b[38;5;124;43m'\u001b[39;49m\u001b[43m:\u001b[49m\u001b[43m \u001b[49m\u001b[43mlabel_encoders\u001b[49m\u001b[43m[\u001b[49m\u001b[38;5;124;43m'\u001b[39;49m\u001b[38;5;124;43myear\u001b[39;49m\u001b[38;5;124;43m'\u001b[39;49m\u001b[43m]\u001b[49m\u001b[43m,\u001b[49m\n\u001b[1;32m     36\u001b[0m \u001b[43m    \u001b[49m\u001b[38;5;124;43m'\u001b[39;49m\u001b[38;5;124;43mloss_quantity\u001b[39;49m\u001b[38;5;124;43m'\u001b[39;49m\u001b[43m:\u001b[49m\u001b[43m \u001b[49m\u001b[43mlabel_encoders\u001b[49m\u001b[43m[\u001b[49m\u001b[38;5;124;43m'\u001b[39;49m\u001b[38;5;124;43mloss_quantity\u001b[39;49m\u001b[38;5;124;43m'\u001b[39;49m\u001b[43m]\u001b[49m\u001b[43m,\u001b[49m\n\u001b[1;32m     37\u001b[0m \u001b[43m    \u001b[49m\u001b[38;5;124;43m'\u001b[39;49m\u001b[38;5;124;43mfood_supply_stage\u001b[39;49m\u001b[38;5;124;43m'\u001b[39;49m\u001b[43m:\u001b[49m\u001b[43m \u001b[49m\u001b[43mlabel_encoders\u001b[49m\u001b[43m[\u001b[49m\u001b[38;5;124;43m'\u001b[39;49m\u001b[38;5;124;43mfood_supply_stage\u001b[39;49m\u001b[38;5;124;43m'\u001b[39;49m\u001b[43m]\u001b[49m\u001b[43m,\u001b[49m\n\u001b[1;32m     38\u001b[0m \u001b[43m    \u001b[49m\u001b[38;5;124;43m'\u001b[39;49m\u001b[38;5;124;43mmethod_data_collection\u001b[39;49m\u001b[38;5;124;43m'\u001b[39;49m\u001b[43m:\u001b[49m\u001b[43m \u001b[49m\u001b[43mlabel_encoders\u001b[49m\u001b[43m[\u001b[49m\u001b[38;5;124;43m'\u001b[39;49m\u001b[38;5;124;43mmethod_data_collection\u001b[39;49m\u001b[38;5;124;43m'\u001b[39;49m\u001b[43m]\u001b[49m\u001b[43m,\u001b[49m\n\u001b[1;32m     39\u001b[0m \u001b[43m    \u001b[49m\u001b[38;5;124;43m'\u001b[39;49m\u001b[38;5;124;43mreference\u001b[39;49m\u001b[38;5;124;43m'\u001b[39;49m\u001b[43m:\u001b[49m\u001b[43m \u001b[49m\u001b[43mlabel_encoders\u001b[49m\u001b[43m[\u001b[49m\u001b[38;5;124;43m'\u001b[39;49m\u001b[38;5;124;43mreference\u001b[39;49m\u001b[38;5;124;43m'\u001b[39;49m\u001b[43m]\u001b[49m\n\u001b[1;32m     40\u001b[0m \u001b[43m}\u001b[49m\u001b[43m)\u001b[49m\n\u001b[1;32m     42\u001b[0m \u001b[38;5;66;03m# Handle previously unseen labels\u001b[39;00m\n\u001b[1;32m     43\u001b[0m \u001b[38;5;28;01mfor\u001b[39;00m col \u001b[38;5;129;01min\u001b[39;00m categorical_cols:\n",
      "File \u001b[0;32m/opt/conda_envs/python38/lib/python3.8/site-packages/pandas/core/frame.py:636\u001b[0m, in \u001b[0;36mDataFrame.__init__\u001b[0;34m(self, data, index, columns, dtype, copy)\u001b[0m\n\u001b[1;32m    630\u001b[0m     mgr \u001b[38;5;241m=\u001b[39m \u001b[38;5;28mself\u001b[39m\u001b[38;5;241m.\u001b[39m_init_mgr(\n\u001b[1;32m    631\u001b[0m         data, axes\u001b[38;5;241m=\u001b[39m{\u001b[38;5;124m\"\u001b[39m\u001b[38;5;124mindex\u001b[39m\u001b[38;5;124m\"\u001b[39m: index, \u001b[38;5;124m\"\u001b[39m\u001b[38;5;124mcolumns\u001b[39m\u001b[38;5;124m\"\u001b[39m: columns}, dtype\u001b[38;5;241m=\u001b[39mdtype, copy\u001b[38;5;241m=\u001b[39mcopy\n\u001b[1;32m    632\u001b[0m     )\n\u001b[1;32m    634\u001b[0m \u001b[38;5;28;01melif\u001b[39;00m \u001b[38;5;28misinstance\u001b[39m(data, \u001b[38;5;28mdict\u001b[39m):\n\u001b[1;32m    635\u001b[0m     \u001b[38;5;66;03m# GH#38939 de facto copy defaults to False only in non-dict cases\u001b[39;00m\n\u001b[0;32m--> 636\u001b[0m     mgr \u001b[38;5;241m=\u001b[39m \u001b[43mdict_to_mgr\u001b[49m\u001b[43m(\u001b[49m\u001b[43mdata\u001b[49m\u001b[43m,\u001b[49m\u001b[43m \u001b[49m\u001b[43mindex\u001b[49m\u001b[43m,\u001b[49m\u001b[43m \u001b[49m\u001b[43mcolumns\u001b[49m\u001b[43m,\u001b[49m\u001b[43m \u001b[49m\u001b[43mdtype\u001b[49m\u001b[38;5;241;43m=\u001b[39;49m\u001b[43mdtype\u001b[49m\u001b[43m,\u001b[49m\u001b[43m \u001b[49m\u001b[43mcopy\u001b[49m\u001b[38;5;241;43m=\u001b[39;49m\u001b[43mcopy\u001b[49m\u001b[43m,\u001b[49m\u001b[43m \u001b[49m\u001b[43mtyp\u001b[49m\u001b[38;5;241;43m=\u001b[39;49m\u001b[43mmanager\u001b[49m\u001b[43m)\u001b[49m\n\u001b[1;32m    637\u001b[0m \u001b[38;5;28;01melif\u001b[39;00m \u001b[38;5;28misinstance\u001b[39m(data, ma\u001b[38;5;241m.\u001b[39mMaskedArray):\n\u001b[1;32m    638\u001b[0m     \u001b[38;5;28;01mimport\u001b[39;00m \u001b[38;5;21;01mnumpy\u001b[39;00m\u001b[38;5;21;01m.\u001b[39;00m\u001b[38;5;21;01mma\u001b[39;00m\u001b[38;5;21;01m.\u001b[39;00m\u001b[38;5;21;01mmrecords\u001b[39;00m \u001b[38;5;28;01mas\u001b[39;00m \u001b[38;5;21;01mmrecords\u001b[39;00m\n",
      "File \u001b[0;32m/opt/conda_envs/python38/lib/python3.8/site-packages/pandas/core/internals/construction.py:502\u001b[0m, in \u001b[0;36mdict_to_mgr\u001b[0;34m(data, index, columns, dtype, typ, copy)\u001b[0m\n\u001b[1;32m    494\u001b[0m     arrays \u001b[38;5;241m=\u001b[39m [\n\u001b[1;32m    495\u001b[0m         x\n\u001b[1;32m    496\u001b[0m         \u001b[38;5;28;01mif\u001b[39;00m \u001b[38;5;129;01mnot\u001b[39;00m \u001b[38;5;28mhasattr\u001b[39m(x, \u001b[38;5;124m\"\u001b[39m\u001b[38;5;124mdtype\u001b[39m\u001b[38;5;124m\"\u001b[39m) \u001b[38;5;129;01mor\u001b[39;00m \u001b[38;5;129;01mnot\u001b[39;00m \u001b[38;5;28misinstance\u001b[39m(x\u001b[38;5;241m.\u001b[39mdtype, ExtensionDtype)\n\u001b[1;32m    497\u001b[0m         \u001b[38;5;28;01melse\u001b[39;00m x\u001b[38;5;241m.\u001b[39mcopy()\n\u001b[1;32m    498\u001b[0m         \u001b[38;5;28;01mfor\u001b[39;00m x \u001b[38;5;129;01min\u001b[39;00m arrays\n\u001b[1;32m    499\u001b[0m     ]\n\u001b[1;32m    500\u001b[0m     \u001b[38;5;66;03m# TODO: can we get rid of the dt64tz special case above?\u001b[39;00m\n\u001b[0;32m--> 502\u001b[0m \u001b[38;5;28;01mreturn\u001b[39;00m \u001b[43marrays_to_mgr\u001b[49m\u001b[43m(\u001b[49m\u001b[43marrays\u001b[49m\u001b[43m,\u001b[49m\u001b[43m \u001b[49m\u001b[43mcolumns\u001b[49m\u001b[43m,\u001b[49m\u001b[43m \u001b[49m\u001b[43mindex\u001b[49m\u001b[43m,\u001b[49m\u001b[43m \u001b[49m\u001b[43mdtype\u001b[49m\u001b[38;5;241;43m=\u001b[39;49m\u001b[43mdtype\u001b[49m\u001b[43m,\u001b[49m\u001b[43m \u001b[49m\u001b[43mtyp\u001b[49m\u001b[38;5;241;43m=\u001b[39;49m\u001b[43mtyp\u001b[49m\u001b[43m,\u001b[49m\u001b[43m \u001b[49m\u001b[43mconsolidate\u001b[49m\u001b[38;5;241;43m=\u001b[39;49m\u001b[43mcopy\u001b[49m\u001b[43m)\u001b[49m\n",
      "File \u001b[0;32m/opt/conda_envs/python38/lib/python3.8/site-packages/pandas/core/internals/construction.py:120\u001b[0m, in \u001b[0;36marrays_to_mgr\u001b[0;34m(arrays, columns, index, dtype, verify_integrity, typ, consolidate)\u001b[0m\n\u001b[1;32m    117\u001b[0m \u001b[38;5;28;01mif\u001b[39;00m verify_integrity:\n\u001b[1;32m    118\u001b[0m     \u001b[38;5;66;03m# figure out the index, if necessary\u001b[39;00m\n\u001b[1;32m    119\u001b[0m     \u001b[38;5;28;01mif\u001b[39;00m index \u001b[38;5;129;01mis\u001b[39;00m \u001b[38;5;28;01mNone\u001b[39;00m:\n\u001b[0;32m--> 120\u001b[0m         index \u001b[38;5;241m=\u001b[39m \u001b[43m_extract_index\u001b[49m\u001b[43m(\u001b[49m\u001b[43marrays\u001b[49m\u001b[43m)\u001b[49m\n\u001b[1;32m    121\u001b[0m     \u001b[38;5;28;01melse\u001b[39;00m:\n\u001b[1;32m    122\u001b[0m         index \u001b[38;5;241m=\u001b[39m ensure_index(index)\n",
      "File \u001b[0;32m/opt/conda_envs/python38/lib/python3.8/site-packages/pandas/core/internals/construction.py:664\u001b[0m, in \u001b[0;36m_extract_index\u001b[0;34m(data)\u001b[0m\n\u001b[1;32m    661\u001b[0m         \u001b[38;5;28;01mraise\u001b[39;00m \u001b[38;5;167;01mValueError\u001b[39;00m(\u001b[38;5;124m\"\u001b[39m\u001b[38;5;124mPer-column arrays must each be 1-dimensional\u001b[39m\u001b[38;5;124m\"\u001b[39m)\n\u001b[1;32m    663\u001b[0m \u001b[38;5;28;01mif\u001b[39;00m \u001b[38;5;129;01mnot\u001b[39;00m indexes \u001b[38;5;129;01mand\u001b[39;00m \u001b[38;5;129;01mnot\u001b[39;00m raw_lengths:\n\u001b[0;32m--> 664\u001b[0m     \u001b[38;5;28;01mraise\u001b[39;00m \u001b[38;5;167;01mValueError\u001b[39;00m(\u001b[38;5;124m\"\u001b[39m\u001b[38;5;124mIf using all scalar values, you must pass an index\u001b[39m\u001b[38;5;124m\"\u001b[39m)\n\u001b[1;32m    666\u001b[0m \u001b[38;5;28;01melif\u001b[39;00m have_series:\n\u001b[1;32m    667\u001b[0m     index \u001b[38;5;241m=\u001b[39m union_indexes(indexes)\n",
      "\u001b[0;31mValueError\u001b[0m: If using all scalar values, you must pass an index"
     ]
    }
   ],
   "source": [
    "import numpy as np\n",
    "import pandas as pd\n",
    "from sklearn.ensemble import RandomForestRegressor\n",
    "from sklearn.preprocessing import LabelEncoder\n",
    "\n",
    "# Load the data\n",
    "df = pd.read_csv('Data-3.csv')\n",
    "\n",
    "# Drop irrelevant columns\n",
    "X = df.drop(['loss_percentage', 'loss_percentage_original', 'activity', 'treatment', 'cause_of_loss', 'sample_size', 'url', 'notes'], axis='columns')\n",
    "y = df['loss_percentage']\n",
    "\n",
    "# Drop rows with missing values\n",
    "X = X.dropna()\n",
    "y = y.loc[X.index]\n",
    "\n",
    "# Encode categorical variables using LabelEncoder\n",
    "categorical_cols = ['m49_code', 'country', 'region', 'cpc_code', 'commodity', 'year', 'loss_quantity', 'food_supply_stage', 'method_data_collection', 'reference']\n",
    "label_encoders = {}\n",
    "for col in categorical_cols:\n",
    "    label_encoders[col] = LabelEncoder()\n",
    "    X[col] = label_encoders[col].fit_transform(X[col])\n",
    "\n",
    "# Train a Random Forest Regressor on the entire dataset\n",
    "rf = RandomForestRegressor(n_estimators=100, random_state=42)\n",
    "rf.fit(X, y)\n",
    "\n",
    "# Make predictions on new data\n",
    "X_new = pd.DataFrame({\n",
    "    'm49_code': label_encoders['m49_code'],\n",
    "    'country': label_encoders['country'],\n",
    "    'region': label_encoders['region'],\n",
    "    'cpc_code': label_encoders['cpc_code'],\n",
    "    'commodity': label_encoders['commodity'],\n",
    "    'year': label_encoders['year'],\n",
    "    'loss_quantity': label_encoders['loss_quantity'],\n",
    "    'food_supply_stage': label_encoders['food_supply_stage'],\n",
    "    'method_data_collection': label_encoders['method_data_collection'],\n",
    "    'reference': label_encoders['reference']\n",
    "})\n",
    "\n",
    "# Handle previously unseen labels\n",
    "for col in categorical_cols:\n",
    "    le = label_encoders[col]\n",
    "    labels = set(le.classes_)\n",
    "    X_new_col = set(X_new[col])\n",
    "    diff = X_new_col - labels\n",
    "    if diff:\n",
    "        print(f\"Unseen labels in {col}: {diff}\")\n",
    "        new_labels = list(diff)\n",
    "        le.classes_ = np.append(le.classes_, new_labels)\n",
    "        X_new[col] = le.transform(X_new[col])\n",
    "\n",
    "y_pred = rf.predict(X_new)\n",
    "print(y_pred)\n"
   ]
  },
  {
   "cell_type": "code",
   "execution_count": null,
   "id": "87111d3f-c6d8-490e-a3fc-aeef65d0bd9b",
   "metadata": {},
   "outputs": [],
   "source": []
  }
 ],
 "metadata": {
  "kernelspec": {
   "display_name": "Python 3.8",
   "language": "python",
   "name": "python38"
  },
  "language_info": {
   "codemirror_mode": {
    "name": "ipython",
    "version": 3
   },
   "file_extension": ".py",
   "mimetype": "text/x-python",
   "name": "python",
   "nbconvert_exporter": "python",
   "pygments_lexer": "ipython3",
   "version": "3.8.13"
  }
 },
 "nbformat": 4,
 "nbformat_minor": 5
}
